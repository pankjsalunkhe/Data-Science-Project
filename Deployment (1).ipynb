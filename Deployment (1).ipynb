{
 "cells": [
  {
   "cell_type": "code",
   "execution_count": 1,
   "id": "vxqsFuYqVRPA",
   "metadata": {
    "colab": {
     "base_uri": "https://localhost:8080/"
    },
    "executionInfo": {
     "elapsed": 10506,
     "status": "ok",
     "timestamp": 1693921085401,
     "user": {
      "displayName": "PANKAJ SALUNKHE",
      "userId": "08424937232461161181"
     },
     "user_tz": -330
    },
    "id": "vxqsFuYqVRPA",
    "outputId": "ac765ac6-d526-46ae-c743-50731466d8f5"
   },
   "outputs": [
    {
     "name": "stdout",
     "output_type": "stream",
     "text": [
      "Collecting streamlit\n",
      "  Downloading streamlit-1.26.0-py2.py3-none-any.whl (8.1 MB)\n",
      "     ---------------------------------------- 8.1/8.1 MB 5.8 MB/s eta 0:00:00\n",
      "Requirement already satisfied: python-dateutil<3,>=2.7.3 in c:\\users\\pankj\\anaconda3\\lib\\site-packages (from streamlit) (2.8.2)\n",
      "Requirement already satisfied: toml<2,>=0.10.1 in c:\\users\\pankj\\anaconda3\\lib\\site-packages (from streamlit) (0.10.2)\n",
      "Collecting tenacity<9,>=8.1.0\n",
      "  Downloading tenacity-8.2.3-py3-none-any.whl (24 kB)\n",
      "Requirement already satisfied: importlib-metadata<7,>=1.4 in c:\\users\\pankj\\anaconda3\\lib\\site-packages (from streamlit) (4.11.3)\n",
      "Collecting altair<6,>=4.0\n",
      "  Downloading altair-5.1.1-py3-none-any.whl (520 kB)\n",
      "     -------------------------------------- 520.6/520.6 kB 8.2 MB/s eta 0:00:00\n",
      "Requirement already satisfied: click<9,>=7.0 in c:\\users\\pankj\\anaconda3\\lib\\site-packages (from streamlit) (8.0.4)\n",
      "Collecting cachetools<6,>=4.0\n",
      "  Downloading cachetools-5.3.1-py3-none-any.whl (9.3 kB)\n",
      "Requirement already satisfied: requests<3,>=2.18 in c:\\users\\pankj\\anaconda3\\lib\\site-packages (from streamlit) (2.28.1)\n",
      "Collecting validators<1,>=0.2\n",
      "  Downloading validators-0.22.0-py3-none-any.whl (26 kB)\n",
      "Requirement already satisfied: watchdog>=2.1.5 in c:\\users\\pankj\\anaconda3\\lib\\site-packages (from streamlit) (2.1.6)\n",
      "Requirement already satisfied: typing-extensions<5,>=4.1.0 in c:\\users\\pankj\\anaconda3\\lib\\site-packages (from streamlit) (4.4.0)\n",
      "Collecting rich<14,>=10.14.0\n",
      "  Downloading rich-13.5.2-py3-none-any.whl (239 kB)\n",
      "     ------------------------------------- 239.7/239.7 kB 14.3 MB/s eta 0:00:00\n",
      "Collecting gitpython!=3.1.19,<4,>=3.0.7\n",
      "  Downloading GitPython-3.1.34-py3-none-any.whl (188 kB)\n",
      "     ------------------------------------- 188.6/188.6 kB 11.1 MB/s eta 0:00:00\n",
      "Collecting tzlocal<5,>=1.1\n",
      "  Downloading tzlocal-4.3.1-py3-none-any.whl (20 kB)\n",
      "Requirement already satisfied: numpy<2,>=1.19.3 in c:\\users\\pankj\\anaconda3\\lib\\site-packages (from streamlit) (1.23.5)\n",
      "Collecting pydeck<1,>=0.8\n",
      "  Downloading pydeck-0.8.0-py2.py3-none-any.whl (4.7 MB)\n",
      "     ---------------------------------------- 4.7/4.7 MB 4.4 MB/s eta 0:00:00\n",
      "Requirement already satisfied: pandas<3,>=1.3.0 in c:\\users\\pankj\\anaconda3\\lib\\site-packages (from streamlit) (1.5.3)\n",
      "Collecting pympler<2,>=0.9\n",
      "  Downloading Pympler-1.0.1-py3-none-any.whl (164 kB)\n",
      "     -------------------------------------- 164.8/164.8 kB 5.0 MB/s eta 0:00:00\n",
      "Collecting pyarrow>=6.0\n",
      "  Downloading pyarrow-13.0.0-cp310-cp310-win_amd64.whl (24.3 MB)\n",
      "     ---------------------------------------- 24.3/24.3 MB 5.6 MB/s eta 0:00:00\n",
      "Collecting protobuf<5,>=3.20\n",
      "  Downloading protobuf-4.24.2-cp310-abi3-win_amd64.whl (430 kB)\n",
      "     -------------------------------------- 430.4/430.4 kB 9.1 MB/s eta 0:00:00\n",
      "Requirement already satisfied: tornado<7,>=6.0.3 in c:\\users\\pankj\\anaconda3\\lib\\site-packages (from streamlit) (6.1)\n",
      "Requirement already satisfied: packaging<24,>=16.8 in c:\\users\\pankj\\anaconda3\\lib\\site-packages (from streamlit) (22.0)\n",
      "Requirement already satisfied: pillow<10,>=7.1.0 in c:\\users\\pankj\\anaconda3\\lib\\site-packages (from streamlit) (9.4.0)\n",
      "Collecting blinker<2,>=1.0.0\n",
      "  Downloading blinker-1.6.2-py3-none-any.whl (13 kB)\n",
      "Requirement already satisfied: jinja2 in c:\\users\\pankj\\anaconda3\\lib\\site-packages (from altair<6,>=4.0->streamlit) (3.0.3)\n",
      "Requirement already satisfied: jsonschema>=3.0 in c:\\users\\pankj\\anaconda3\\lib\\site-packages (from altair<6,>=4.0->streamlit) (4.17.3)\n",
      "Requirement already satisfied: toolz in c:\\users\\pankj\\anaconda3\\lib\\site-packages (from altair<6,>=4.0->streamlit) (0.12.0)\n",
      "Requirement already satisfied: colorama in c:\\users\\pankj\\anaconda3\\lib\\site-packages (from click<9,>=7.0->streamlit) (0.4.6)\n",
      "Collecting gitdb<5,>=4.0.1\n",
      "  Downloading gitdb-4.0.10-py3-none-any.whl (62 kB)\n",
      "     ---------------------------------------- 62.7/62.7 kB 3.5 MB/s eta 0:00:00\n",
      "Requirement already satisfied: zipp>=0.5 in c:\\users\\pankj\\anaconda3\\lib\\site-packages (from importlib-metadata<7,>=1.4->streamlit) (3.11.0)\n",
      "Requirement already satisfied: pytz>=2020.1 in c:\\users\\pankj\\anaconda3\\lib\\site-packages (from pandas<3,>=1.3.0->streamlit) (2022.7)\n",
      "Requirement already satisfied: six>=1.5 in c:\\users\\pankj\\anaconda3\\lib\\site-packages (from python-dateutil<3,>=2.7.3->streamlit) (1.16.0)\n",
      "Requirement already satisfied: charset-normalizer<3,>=2 in c:\\users\\pankj\\anaconda3\\lib\\site-packages (from requests<3,>=2.18->streamlit) (2.0.4)\n",
      "Requirement already satisfied: certifi>=2017.4.17 in c:\\users\\pankj\\anaconda3\\lib\\site-packages (from requests<3,>=2.18->streamlit) (2022.12.7)\n",
      "Requirement already satisfied: idna<4,>=2.5 in c:\\users\\pankj\\anaconda3\\lib\\site-packages (from requests<3,>=2.18->streamlit) (3.4)\n",
      "Requirement already satisfied: urllib3<1.27,>=1.21.1 in c:\\users\\pankj\\anaconda3\\lib\\site-packages (from requests<3,>=2.18->streamlit) (1.26.14)\n",
      "Collecting markdown-it-py>=2.2.0\n",
      "  Downloading markdown_it_py-3.0.0-py3-none-any.whl (87 kB)\n",
      "     ---------------------------------------- 87.5/87.5 kB 5.2 MB/s eta 0:00:00\n",
      "Collecting pygments<3.0.0,>=2.13.0\n",
      "  Downloading Pygments-2.16.1-py3-none-any.whl (1.2 MB)\n",
      "     ---------------------------------------- 1.2/1.2 MB 12.4 MB/s eta 0:00:00\n",
      "Collecting tzdata\n",
      "  Downloading tzdata-2023.3-py2.py3-none-any.whl (341 kB)\n",
      "     ------------------------------------- 341.8/341.8 kB 10.7 MB/s eta 0:00:00\n",
      "Collecting pytz-deprecation-shim\n",
      "  Downloading pytz_deprecation_shim-0.1.0.post0-py2.py3-none-any.whl (15 kB)\n",
      "Collecting smmap<6,>=3.0.1\n",
      "  Downloading smmap-5.0.0-py3-none-any.whl (24 kB)\n",
      "Requirement already satisfied: MarkupSafe>=2.0 in c:\\users\\pankj\\anaconda3\\lib\\site-packages (from jinja2->altair<6,>=4.0->streamlit) (2.1.1)\n",
      "Requirement already satisfied: attrs>=17.4.0 in c:\\users\\pankj\\anaconda3\\lib\\site-packages (from jsonschema>=3.0->altair<6,>=4.0->streamlit) (22.1.0)\n",
      "Requirement already satisfied: pyrsistent!=0.17.0,!=0.17.1,!=0.17.2,>=0.14.0 in c:\\users\\pankj\\anaconda3\\lib\\site-packages (from jsonschema>=3.0->altair<6,>=4.0->streamlit) (0.18.0)\n",
      "Collecting mdurl~=0.1\n",
      "  Downloading mdurl-0.1.2-py3-none-any.whl (10.0 kB)\n",
      "Installing collected packages: validators, tzdata, tenacity, smmap, pympler, pygments, pyarrow, protobuf, mdurl, cachetools, blinker, pytz-deprecation-shim, pydeck, markdown-it-py, gitdb, tzlocal, rich, gitpython, altair, streamlit\n",
      "  Attempting uninstall: tenacity\n",
      "    Found existing installation: tenacity 8.0.1\n",
      "    Uninstalling tenacity-8.0.1:\n",
      "      Successfully uninstalled tenacity-8.0.1\n",
      "  Attempting uninstall: pygments\n",
      "    Found existing installation: Pygments 2.11.2\n",
      "    Uninstalling Pygments-2.11.2:\n",
      "      Successfully uninstalled Pygments-2.11.2\n",
      "Successfully installed altair-5.1.1 blinker-1.6.2 cachetools-5.3.1 gitdb-4.0.10 gitpython-3.1.34 markdown-it-py-3.0.0 mdurl-0.1.2 protobuf-4.24.2 pyarrow-13.0.0 pydeck-0.8.0 pygments-2.16.1 pympler-1.0.1 pytz-deprecation-shim-0.1.0.post0 rich-13.5.2 smmap-5.0.0 streamlit-1.26.0 tenacity-8.2.3 tzdata-2023.3 tzlocal-4.3.1 validators-0.22.0\n",
      "Note: you may need to restart the kernel to use updated packages.\n"
     ]
    }
   ],
   "source": [
    "pip install streamlit\n"
   ]
  },
  {
   "cell_type": "code",
   "execution_count": 4,
   "id": "5e59889f",
   "metadata": {
    "ExecuteTime": {
     "end_time": "2023-09-02T13:18:40.754804Z",
     "start_time": "2023-09-02T13:18:29.924014Z"
    },
    "colab": {
     "base_uri": "https://localhost:8080/",
     "height": 391
    },
    "executionInfo": {
     "elapsed": 432,
     "status": "error",
     "timestamp": 1693921102794,
     "user": {
      "displayName": "PANKAJ SALUNKHE",
      "userId": "08424937232461161181"
     },
     "user_tz": -330
    },
    "id": "5e59889f",
    "outputId": "5d4bcf0d-3e48-4f1d-aa38-1c26d5251700"
   },
   "outputs": [],
   "source": [
    "import pandas as pd\n",
    "import streamlit as st\n",
    "from imblearn.combine import SMOTEENN\n",
    "from collections import Counter\n",
    "from sklearn.ensemble import RandomForestClassifier\n",
    "st.title('Model Development \\n Telecommunication Churning')\n",
    "st.sidebar.header('Input Features')\n",
    "def input_features():\n",
    "    Voice_Plan=st.sidebar.selectbox('Voice Plan',('1','0'))\n",
    "    International_Plan=st.sidebar.selectbox('International Plan',('1','0'))\n",
    "    International_Calls=st.sidebar.number_input('Insert Number Of Calls')\n",
    "    International_Charges=st.sidebar.number_input('Insert International Charge')\n",
    "    Day_Charges=st.sidebar.number_input('Insert Day Charge')\n",
    "    Evening_Mins=st.sidebar.number_input('Insert Evening Minutes')\n",
    "    Night_Mins=st.sidebar.number_input('Insert Night Minutes')\n",
    "\n",
    "    data={'Voice_Plan':Voice_Plan,\n",
    "          'International_Plan':International_Plan,\n",
    "          'International_Calls':International_Calls,\n",
    "          'International_Charges':International_Charges,\n",
    "          'Day_Charges':Day_Charges,\n",
    "          'Evening_Mins':Evening_Mins,\n",
    "          'Night_Mins':Night_Mins}\n",
    "    features=pd.DataFrame(data,index=[0])\n",
    "    return features\n",
    "df=input_features()\n",
    "st.subheader('User Input Features')\n",
    "st.write(df)\n",
    "\n",
    "churn=pd.read_csv('Churn_Without_Outliers',encoding='utf_8')\n",
    "x=churn.iloc[:,1:8]\n",
    "y=churn.iloc[:,8]\n",
    "sm=SMOTEENN()\n",
    "X,Y = sm.fit_resample(x,y)\n",
    "RF=RandomForestClassifier()\n",
    "RF.fit(X,Y)\n",
    "predict=RF.predict(df)\n",
    "prediction_probability=RF.predict_proba(df)\n",
    "\n",
    "st.subheader('Prediction Result')\n",
    "st.write('Yes' if prediction_probability[0][1]>0.5 else 'No')\n",
    "\n",
    "st.subheader('Prediction Probability')\n",
    "st.write(prediction_probability)"
   ]
  },
  {
   "cell_type": "code",
   "execution_count": 5,
   "id": "1z6wDUUlVVIj",
   "metadata": {
    "executionInfo": {
     "elapsed": 10,
     "status": "aborted",
     "timestamp": 1693921090383,
     "user": {
      "displayName": "PANKAJ SALUNKHE",
      "userId": "08424937232461161181"
     },
     "user_tz": -330
    },
    "id": "1z6wDUUlVVIj"
   },
   "outputs": [
    {
     "name": "stderr",
     "output_type": "stream",
     "text": [
      "Usage: streamlit run [OPTIONS] TARGET [ARGS]...\n",
      "Try 'streamlit run --help' for help.\n",
      "\n",
      "Error: Invalid value: File does not exist: my_streamlit_app.py\n"
     ]
    }
   ],
   "source": [
    "!streamlit run my_streamlit_app.py\n"
   ]
  },
  {
   "cell_type": "code",
   "execution_count": 13,
   "id": "de2651b7",
   "metadata": {},
   "outputs": [],
   "source": [
    "import pandas as pd\n",
    "import streamlit as st\n",
    "from imblearn.combine import SMOTEENN\n",
    "from sklearn.ensemble import RandomForestClassifier\n",
    "\n",
    "st.title('Model Development \\n Telecommunication Churning')\n",
    "st.sidebar.header('Input Features')\n",
    "\n",
    "def input_features():\n",
    "    # Your input feature collection logic here\n",
    "    Voice_Plan = st.sidebar.selectbox('Voice Plan', ('1', '0'))\n",
    "    International_Plan = st.sidebar.selectbox('International Plan', ('1', '0'))\n",
    "    International_Calls = st.sidebar.number_input('Insert Number Of Calls')\n",
    "    International_Charges = st.sidebar.number_input('Insert International Charge')\n",
    "    Day_Charges = st.sidebar.number_input('Insert Day Charge')\n",
    "    Evening_Mins = st.sidebar.number_input('Insert Evening Minutes')\n",
    "    Night_Mins = st.sidebar.number_input('Insert Night Minutes')\n",
    "\n",
    "    data = {\n",
    "        'Voice_Plan': Voice_Plan,\n",
    "        'International_Plan': International_Plan,\n",
    "        'International_Calls': International_Calls,\n",
    "        'International_Charges': International_Charges,\n",
    "        'Day_Charges': Day_Charges,\n",
    "        'Evening_Mins': Evening_Mins,\n",
    "        'Night_Mins': Night_Mins\n",
    "    }\n",
    "    features = pd.DataFrame(data, index=[0])\n",
    "    return features\n",
    "\n",
    "df = input_features()\n",
    "st.subheader('User Input Features')\n",
    "st.write(df)\n",
    "\n",
    "churn = pd.read_csv('Churn_Without_Outliers', encoding='utf_8')\n",
    "x = churn.iloc[:, 1:8]\n",
    "y = churn.iloc[:, 8]\n",
    "\n",
    "# Apply SMOTEENN before splitting into training and testing sets\n",
    "sm = SMOTEENN()\n",
    "X, Y = sm.fit_resample(x, y)\n",
    "\n",
    "RF = RandomForestClassifier()\n",
    "RF.fit(X, Y)\n",
    "\n",
    "try:\n",
    "    predict = RF.predict(df)\n",
    "    prediction_probability = RF.predict_proba(df)\n",
    "\n",
    "    st.subheader('Prediction Result')\n",
    "    churn_prediction = 'Yes' if prediction_probability[0][1] > 0.5 else 'No'\n",
    "    st.write(churn_prediction)\n",
    "\n",
    "    st.subheader('Prediction Probability')\n",
    "    st.write(prediction_probability)\n",
    "except Exception as e:\n",
    "    st.write(f\"An error occurred: {str(e)}\")\n"
   ]
  }
 ],
 "metadata": {
  "colab": {
   "provenance": []
  },
  "kernelspec": {
   "display_name": "Python 3 (ipykernel)",
   "language": "python",
   "name": "python3"
  },
  "language_info": {
   "codemirror_mode": {
    "name": "ipython",
    "version": 3
   },
   "file_extension": ".py",
   "mimetype": "text/x-python",
   "name": "python",
   "nbconvert_exporter": "python",
   "pygments_lexer": "ipython3",
   "version": "3.10.9"
  }
 },
 "nbformat": 4,
 "nbformat_minor": 5
}
